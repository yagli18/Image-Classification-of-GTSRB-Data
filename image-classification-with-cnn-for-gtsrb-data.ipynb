{
 "cells": [
  {
   "cell_type": "code",
   "execution_count": 1,
   "id": "8e6eb0db",
   "metadata": {
    "execution": {
     "iopub.execute_input": "2022-08-17T14:00:58.777245Z",
     "iopub.status.busy": "2022-08-17T14:00:58.775659Z",
     "iopub.status.idle": "2022-08-17T14:01:06.306327Z",
     "shell.execute_reply": "2022-08-17T14:01:06.304852Z"
    },
    "papermill": {
     "duration": 7.547557,
     "end_time": "2022-08-17T14:01:06.309947",
     "exception": false,
     "start_time": "2022-08-17T14:00:58.762390",
     "status": "completed"
    },
    "tags": []
   },
   "outputs": [],
   "source": [
    "import tensorflow as tf\n",
    "from tensorflow.keras import Sequential \n",
    "from tensorflow.keras.layers import Conv2D,MaxPool2D,Dropout,Flatten,Dense,BatchNormalization"
   ]
  },
  {
   "cell_type": "code",
   "execution_count": 2,
   "id": "163f8f7c",
   "metadata": {
    "execution": {
     "iopub.execute_input": "2022-08-17T14:01:06.327768Z",
     "iopub.status.busy": "2022-08-17T14:01:06.325770Z",
     "iopub.status.idle": "2022-08-17T14:01:06.333552Z",
     "shell.execute_reply": "2022-08-17T14:01:06.332088Z"
    },
    "papermill": {
     "duration": 0.019236,
     "end_time": "2022-08-17T14:01:06.336832",
     "exception": false,
     "start_time": "2022-08-17T14:01:06.317596",
     "status": "completed"
    },
    "tags": []
   },
   "outputs": [],
   "source": [
    "import numpy as np\n",
    "import pandas as pd\n",
    "import matplotlib.pyplot as plt"
   ]
  },
  {
   "cell_type": "markdown",
   "id": "73192f85",
   "metadata": {
    "papermill": {
     "duration": 0.006575,
     "end_time": "2022-08-17T14:01:06.350109",
     "exception": false,
     "start_time": "2022-08-17T14:01:06.343534",
     "status": "completed"
    },
    "tags": []
   },
   "source": [
    "## Train Data"
   ]
  },
  {
   "cell_type": "code",
   "execution_count": 3,
   "id": "7d96c3f7",
   "metadata": {
    "execution": {
     "iopub.execute_input": "2022-08-17T14:01:06.365558Z",
     "iopub.status.busy": "2022-08-17T14:01:06.365228Z",
     "iopub.status.idle": "2022-08-17T14:01:06.373497Z",
     "shell.execute_reply": "2022-08-17T14:01:06.371836Z"
    },
    "papermill": {
     "duration": 0.019836,
     "end_time": "2022-08-17T14:01:06.376949",
     "exception": false,
     "start_time": "2022-08-17T14:01:06.357113",
     "status": "completed"
    },
    "tags": []
   },
   "outputs": [],
   "source": [
    "from tensorflow.keras.preprocessing.image import ImageDataGenerator\n",
    "datagen = ImageDataGenerator(rescale=1/255.0, validation_split=0.2)"
   ]
  },
  {
   "cell_type": "code",
   "execution_count": 4,
   "id": "11f00639",
   "metadata": {
    "execution": {
     "iopub.execute_input": "2022-08-17T14:01:06.392419Z",
     "iopub.status.busy": "2022-08-17T14:01:06.391965Z",
     "iopub.status.idle": "2022-08-17T14:01:06.486866Z",
     "shell.execute_reply": "2022-08-17T14:01:06.485451Z"
    },
    "papermill": {
     "duration": 0.106123,
     "end_time": "2022-08-17T14:01:06.489908",
     "exception": false,
     "start_time": "2022-08-17T14:01:06.383785",
     "status": "completed"
    },
    "tags": []
   },
   "outputs": [],
   "source": [
    "df_train = pd.read_csv('../input/gtsrb-german-traffic-sign/Train.csv')"
   ]
  },
  {
   "cell_type": "code",
   "execution_count": 5,
   "id": "f04dcfb3",
   "metadata": {
    "execution": {
     "iopub.execute_input": "2022-08-17T14:01:06.504891Z",
     "iopub.status.busy": "2022-08-17T14:01:06.503894Z",
     "iopub.status.idle": "2022-08-17T14:01:06.531409Z",
     "shell.execute_reply": "2022-08-17T14:01:06.530197Z"
    },
    "papermill": {
     "duration": 0.038195,
     "end_time": "2022-08-17T14:01:06.534566",
     "exception": false,
     "start_time": "2022-08-17T14:01:06.496371",
     "status": "completed"
    },
    "tags": []
   },
   "outputs": [],
   "source": [
    "df_train['Path']=df_train.Path.apply(lambda x: '../input/gtsrb-german-traffic-sign/'+x)"
   ]
  },
  {
   "cell_type": "code",
   "execution_count": 6,
   "id": "c8fa3e6f",
   "metadata": {
    "execution": {
     "iopub.execute_input": "2022-08-17T14:01:06.548482Z",
     "iopub.status.busy": "2022-08-17T14:01:06.548152Z",
     "iopub.status.idle": "2022-08-17T14:01:06.576499Z",
     "shell.execute_reply": "2022-08-17T14:01:06.575030Z"
    },
    "papermill": {
     "duration": 0.038524,
     "end_time": "2022-08-17T14:01:06.579274",
     "exception": false,
     "start_time": "2022-08-17T14:01:06.540750",
     "status": "completed"
    },
    "tags": []
   },
   "outputs": [],
   "source": [
    "df_train['ClassId']=df_train.ClassId.astype(str)"
   ]
  },
  {
   "cell_type": "code",
   "execution_count": 7,
   "id": "80e77004",
   "metadata": {
    "execution": {
     "iopub.execute_input": "2022-08-17T14:01:06.592812Z",
     "iopub.status.busy": "2022-08-17T14:01:06.592483Z",
     "iopub.status.idle": "2022-08-17T14:01:06.622331Z",
     "shell.execute_reply": "2022-08-17T14:01:06.620693Z"
    },
    "papermill": {
     "duration": 0.042139,
     "end_time": "2022-08-17T14:01:06.627517",
     "exception": false,
     "start_time": "2022-08-17T14:01:06.585378",
     "status": "completed"
    },
    "tags": []
   },
   "outputs": [
    {
     "name": "stdout",
     "output_type": "stream",
     "text": [
      "<class 'pandas.core.frame.DataFrame'>\n",
      "RangeIndex: 39209 entries, 0 to 39208\n",
      "Data columns (total 8 columns):\n",
      " #   Column   Non-Null Count  Dtype \n",
      "---  ------   --------------  ----- \n",
      " 0   Width    39209 non-null  int64 \n",
      " 1   Height   39209 non-null  int64 \n",
      " 2   Roi.X1   39209 non-null  int64 \n",
      " 3   Roi.Y1   39209 non-null  int64 \n",
      " 4   Roi.X2   39209 non-null  int64 \n",
      " 5   Roi.Y2   39209 non-null  int64 \n",
      " 6   ClassId  39209 non-null  object\n",
      " 7   Path     39209 non-null  object\n",
      "dtypes: int64(6), object(2)\n",
      "memory usage: 2.4+ MB\n"
     ]
    }
   ],
   "source": [
    "df_train.info()"
   ]
  },
  {
   "cell_type": "code",
   "execution_count": 8,
   "id": "c66b7fcd",
   "metadata": {
    "execution": {
     "iopub.execute_input": "2022-08-17T14:01:06.645743Z",
     "iopub.status.busy": "2022-08-17T14:01:06.643747Z",
     "iopub.status.idle": "2022-08-17T14:01:06.670371Z",
     "shell.execute_reply": "2022-08-17T14:01:06.669068Z"
    },
    "papermill": {
     "duration": 0.038072,
     "end_time": "2022-08-17T14:01:06.673363",
     "exception": false,
     "start_time": "2022-08-17T14:01:06.635291",
     "status": "completed"
    },
    "tags": []
   },
   "outputs": [
    {
     "data": {
      "text/html": [
       "<div>\n",
       "<style scoped>\n",
       "    .dataframe tbody tr th:only-of-type {\n",
       "        vertical-align: middle;\n",
       "    }\n",
       "\n",
       "    .dataframe tbody tr th {\n",
       "        vertical-align: top;\n",
       "    }\n",
       "\n",
       "    .dataframe thead th {\n",
       "        text-align: right;\n",
       "    }\n",
       "</style>\n",
       "<table border=\"1\" class=\"dataframe\">\n",
       "  <thead>\n",
       "    <tr style=\"text-align: right;\">\n",
       "      <th></th>\n",
       "      <th>Width</th>\n",
       "      <th>Height</th>\n",
       "      <th>Roi.X1</th>\n",
       "      <th>Roi.Y1</th>\n",
       "      <th>Roi.X2</th>\n",
       "      <th>Roi.Y2</th>\n",
       "      <th>ClassId</th>\n",
       "      <th>Path</th>\n",
       "    </tr>\n",
       "  </thead>\n",
       "  <tbody>\n",
       "    <tr>\n",
       "      <th>0</th>\n",
       "      <td>27</td>\n",
       "      <td>26</td>\n",
       "      <td>5</td>\n",
       "      <td>5</td>\n",
       "      <td>22</td>\n",
       "      <td>20</td>\n",
       "      <td>20</td>\n",
       "      <td>../input/gtsrb-german-traffic-sign/Train/20/00...</td>\n",
       "    </tr>\n",
       "    <tr>\n",
       "      <th>1</th>\n",
       "      <td>28</td>\n",
       "      <td>27</td>\n",
       "      <td>5</td>\n",
       "      <td>6</td>\n",
       "      <td>23</td>\n",
       "      <td>22</td>\n",
       "      <td>20</td>\n",
       "      <td>../input/gtsrb-german-traffic-sign/Train/20/00...</td>\n",
       "    </tr>\n",
       "    <tr>\n",
       "      <th>2</th>\n",
       "      <td>29</td>\n",
       "      <td>26</td>\n",
       "      <td>6</td>\n",
       "      <td>5</td>\n",
       "      <td>24</td>\n",
       "      <td>21</td>\n",
       "      <td>20</td>\n",
       "      <td>../input/gtsrb-german-traffic-sign/Train/20/00...</td>\n",
       "    </tr>\n",
       "    <tr>\n",
       "      <th>3</th>\n",
       "      <td>28</td>\n",
       "      <td>27</td>\n",
       "      <td>5</td>\n",
       "      <td>6</td>\n",
       "      <td>23</td>\n",
       "      <td>22</td>\n",
       "      <td>20</td>\n",
       "      <td>../input/gtsrb-german-traffic-sign/Train/20/00...</td>\n",
       "    </tr>\n",
       "    <tr>\n",
       "      <th>4</th>\n",
       "      <td>28</td>\n",
       "      <td>26</td>\n",
       "      <td>5</td>\n",
       "      <td>5</td>\n",
       "      <td>23</td>\n",
       "      <td>21</td>\n",
       "      <td>20</td>\n",
       "      <td>../input/gtsrb-german-traffic-sign/Train/20/00...</td>\n",
       "    </tr>\n",
       "    <tr>\n",
       "      <th>...</th>\n",
       "      <td>...</td>\n",
       "      <td>...</td>\n",
       "      <td>...</td>\n",
       "      <td>...</td>\n",
       "      <td>...</td>\n",
       "      <td>...</td>\n",
       "      <td>...</td>\n",
       "      <td>...</td>\n",
       "    </tr>\n",
       "    <tr>\n",
       "      <th>39204</th>\n",
       "      <td>52</td>\n",
       "      <td>56</td>\n",
       "      <td>5</td>\n",
       "      <td>6</td>\n",
       "      <td>47</td>\n",
       "      <td>51</td>\n",
       "      <td>42</td>\n",
       "      <td>../input/gtsrb-german-traffic-sign/Train/42/00...</td>\n",
       "    </tr>\n",
       "    <tr>\n",
       "      <th>39205</th>\n",
       "      <td>56</td>\n",
       "      <td>58</td>\n",
       "      <td>5</td>\n",
       "      <td>5</td>\n",
       "      <td>51</td>\n",
       "      <td>53</td>\n",
       "      <td>42</td>\n",
       "      <td>../input/gtsrb-german-traffic-sign/Train/42/00...</td>\n",
       "    </tr>\n",
       "    <tr>\n",
       "      <th>39206</th>\n",
       "      <td>58</td>\n",
       "      <td>62</td>\n",
       "      <td>5</td>\n",
       "      <td>6</td>\n",
       "      <td>53</td>\n",
       "      <td>57</td>\n",
       "      <td>42</td>\n",
       "      <td>../input/gtsrb-german-traffic-sign/Train/42/00...</td>\n",
       "    </tr>\n",
       "    <tr>\n",
       "      <th>39207</th>\n",
       "      <td>63</td>\n",
       "      <td>69</td>\n",
       "      <td>5</td>\n",
       "      <td>7</td>\n",
       "      <td>58</td>\n",
       "      <td>63</td>\n",
       "      <td>42</td>\n",
       "      <td>../input/gtsrb-german-traffic-sign/Train/42/00...</td>\n",
       "    </tr>\n",
       "    <tr>\n",
       "      <th>39208</th>\n",
       "      <td>68</td>\n",
       "      <td>69</td>\n",
       "      <td>7</td>\n",
       "      <td>6</td>\n",
       "      <td>62</td>\n",
       "      <td>63</td>\n",
       "      <td>42</td>\n",
       "      <td>../input/gtsrb-german-traffic-sign/Train/42/00...</td>\n",
       "    </tr>\n",
       "  </tbody>\n",
       "</table>\n",
       "<p>39209 rows × 8 columns</p>\n",
       "</div>"
      ],
      "text/plain": [
       "       Width  Height  Roi.X1  Roi.Y1  Roi.X2  Roi.Y2 ClassId  \\\n",
       "0         27      26       5       5      22      20      20   \n",
       "1         28      27       5       6      23      22      20   \n",
       "2         29      26       6       5      24      21      20   \n",
       "3         28      27       5       6      23      22      20   \n",
       "4         28      26       5       5      23      21      20   \n",
       "...      ...     ...     ...     ...     ...     ...     ...   \n",
       "39204     52      56       5       6      47      51      42   \n",
       "39205     56      58       5       5      51      53      42   \n",
       "39206     58      62       5       6      53      57      42   \n",
       "39207     63      69       5       7      58      63      42   \n",
       "39208     68      69       7       6      62      63      42   \n",
       "\n",
       "                                                    Path  \n",
       "0      ../input/gtsrb-german-traffic-sign/Train/20/00...  \n",
       "1      ../input/gtsrb-german-traffic-sign/Train/20/00...  \n",
       "2      ../input/gtsrb-german-traffic-sign/Train/20/00...  \n",
       "3      ../input/gtsrb-german-traffic-sign/Train/20/00...  \n",
       "4      ../input/gtsrb-german-traffic-sign/Train/20/00...  \n",
       "...                                                  ...  \n",
       "39204  ../input/gtsrb-german-traffic-sign/Train/42/00...  \n",
       "39205  ../input/gtsrb-german-traffic-sign/Train/42/00...  \n",
       "39206  ../input/gtsrb-german-traffic-sign/Train/42/00...  \n",
       "39207  ../input/gtsrb-german-traffic-sign/Train/42/00...  \n",
       "39208  ../input/gtsrb-german-traffic-sign/Train/42/00...  \n",
       "\n",
       "[39209 rows x 8 columns]"
      ]
     },
     "execution_count": 8,
     "metadata": {},
     "output_type": "execute_result"
    }
   ],
   "source": [
    "df_train # Path has ansoolute paths pointing to each image instead of just filenames"
   ]
  },
  {
   "cell_type": "code",
   "execution_count": 9,
   "id": "e38d27da",
   "metadata": {
    "execution": {
     "iopub.execute_input": "2022-08-17T14:01:06.688260Z",
     "iopub.status.busy": "2022-08-17T14:01:06.687637Z",
     "iopub.status.idle": "2022-08-17T14:01:50.815418Z",
     "shell.execute_reply": "2022-08-17T14:01:50.813990Z"
    },
    "papermill": {
     "duration": 44.14478,
     "end_time": "2022-08-17T14:01:50.824845",
     "exception": false,
     "start_time": "2022-08-17T14:01:06.680065",
     "status": "completed"
    },
    "tags": []
   },
   "outputs": [
    {
     "name": "stdout",
     "output_type": "stream",
     "text": [
      "Found 31368 validated image filenames belonging to 43 classes.\n"
     ]
    }
   ],
   "source": [
    "width, height = 50,50\n",
    "trainDatagen = datagen.flow_from_dataframe(df_train, directory=None, x_col='Path', y_col='ClassId',\n",
    "                                           target_size=(width,height), class_mode = 'categorical', batch_size = 16, \n",
    "                                           subset='training')"
   ]
  },
  {
   "cell_type": "code",
   "execution_count": 10,
   "id": "73a27f57",
   "metadata": {
    "execution": {
     "iopub.execute_input": "2022-08-17T14:01:50.839210Z",
     "iopub.status.busy": "2022-08-17T14:01:50.838779Z",
     "iopub.status.idle": "2022-08-17T14:01:50.934171Z",
     "shell.execute_reply": "2022-08-17T14:01:50.932695Z"
    },
    "papermill": {
     "duration": 0.105871,
     "end_time": "2022-08-17T14:01:50.937010",
     "exception": false,
     "start_time": "2022-08-17T14:01:50.831139",
     "status": "completed"
    },
    "tags": []
   },
   "outputs": [],
   "source": [
    "x, y = trainDatagen.next()"
   ]
  },
  {
   "cell_type": "code",
   "execution_count": 11,
   "id": "53a99b6d",
   "metadata": {
    "execution": {
     "iopub.execute_input": "2022-08-17T14:01:50.951669Z",
     "iopub.status.busy": "2022-08-17T14:01:50.951322Z",
     "iopub.status.idle": "2022-08-17T14:01:50.958780Z",
     "shell.execute_reply": "2022-08-17T14:01:50.957456Z"
    },
    "papermill": {
     "duration": 0.017947,
     "end_time": "2022-08-17T14:01:50.961563",
     "exception": false,
     "start_time": "2022-08-17T14:01:50.943616",
     "status": "completed"
    },
    "tags": []
   },
   "outputs": [
    {
     "data": {
      "text/plain": [
       "((16, 50, 50, 3), (16, 43))"
      ]
     },
     "execution_count": 11,
     "metadata": {},
     "output_type": "execute_result"
    }
   ],
   "source": [
    "x.shape, y.shape"
   ]
  },
  {
   "cell_type": "markdown",
   "id": "5f278fef",
   "metadata": {
    "papermill": {
     "duration": 0.006286,
     "end_time": "2022-08-17T14:01:50.974896",
     "exception": false,
     "start_time": "2022-08-17T14:01:50.968610",
     "status": "completed"
    },
    "tags": []
   },
   "source": [
    "## Test Data"
   ]
  },
  {
   "cell_type": "code",
   "execution_count": 12,
   "id": "b3ebf24d",
   "metadata": {
    "execution": {
     "iopub.execute_input": "2022-08-17T14:01:50.989669Z",
     "iopub.status.busy": "2022-08-17T14:01:50.989334Z",
     "iopub.status.idle": "2022-08-17T14:01:51.021160Z",
     "shell.execute_reply": "2022-08-17T14:01:51.019947Z"
    },
    "papermill": {
     "duration": 0.042489,
     "end_time": "2022-08-17T14:01:51.023878",
     "exception": false,
     "start_time": "2022-08-17T14:01:50.981389",
     "status": "completed"
    },
    "tags": []
   },
   "outputs": [],
   "source": [
    "df_test = pd.read_csv('../input/gtsrb-german-traffic-sign/Test.csv')"
   ]
  },
  {
   "cell_type": "code",
   "execution_count": 13,
   "id": "7b161209",
   "metadata": {
    "execution": {
     "iopub.execute_input": "2022-08-17T14:01:51.039069Z",
     "iopub.status.busy": "2022-08-17T14:01:51.037862Z",
     "iopub.status.idle": "2022-08-17T14:01:51.049270Z",
     "shell.execute_reply": "2022-08-17T14:01:51.047801Z"
    },
    "papermill": {
     "duration": 0.02186,
     "end_time": "2022-08-17T14:01:51.052115",
     "exception": false,
     "start_time": "2022-08-17T14:01:51.030255",
     "status": "completed"
    },
    "tags": []
   },
   "outputs": [],
   "source": [
    "df_test['Path']=df_test.Path.apply(lambda x: x[-9:])"
   ]
  },
  {
   "cell_type": "code",
   "execution_count": 14,
   "id": "2bf50d68",
   "metadata": {
    "execution": {
     "iopub.execute_input": "2022-08-17T14:01:51.066436Z",
     "iopub.status.busy": "2022-08-17T14:01:51.066131Z",
     "iopub.status.idle": "2022-08-17T14:01:51.080304Z",
     "shell.execute_reply": "2022-08-17T14:01:51.078936Z"
    },
    "papermill": {
     "duration": 0.024663,
     "end_time": "2022-08-17T14:01:51.083092",
     "exception": false,
     "start_time": "2022-08-17T14:01:51.058429",
     "status": "completed"
    },
    "tags": []
   },
   "outputs": [],
   "source": [
    "df_test['ClassId']=df_test.ClassId.astype(str)"
   ]
  },
  {
   "cell_type": "code",
   "execution_count": 15,
   "id": "c1d59a63",
   "metadata": {
    "execution": {
     "iopub.execute_input": "2022-08-17T14:01:51.097144Z",
     "iopub.status.busy": "2022-08-17T14:01:51.096759Z",
     "iopub.status.idle": "2022-08-17T14:01:51.113174Z",
     "shell.execute_reply": "2022-08-17T14:01:51.111600Z"
    },
    "papermill": {
     "duration": 0.027179,
     "end_time": "2022-08-17T14:01:51.116552",
     "exception": false,
     "start_time": "2022-08-17T14:01:51.089373",
     "status": "completed"
    },
    "tags": []
   },
   "outputs": [
    {
     "name": "stdout",
     "output_type": "stream",
     "text": [
      "<class 'pandas.core.frame.DataFrame'>\n",
      "RangeIndex: 12630 entries, 0 to 12629\n",
      "Data columns (total 8 columns):\n",
      " #   Column   Non-Null Count  Dtype \n",
      "---  ------   --------------  ----- \n",
      " 0   Width    12630 non-null  int64 \n",
      " 1   Height   12630 non-null  int64 \n",
      " 2   Roi.X1   12630 non-null  int64 \n",
      " 3   Roi.Y1   12630 non-null  int64 \n",
      " 4   Roi.X2   12630 non-null  int64 \n",
      " 5   Roi.Y2   12630 non-null  int64 \n",
      " 6   ClassId  12630 non-null  object\n",
      " 7   Path     12630 non-null  object\n",
      "dtypes: int64(6), object(2)\n",
      "memory usage: 789.5+ KB\n"
     ]
    }
   ],
   "source": [
    "df_test.info()"
   ]
  },
  {
   "cell_type": "code",
   "execution_count": 16,
   "id": "63caf4d3",
   "metadata": {
    "execution": {
     "iopub.execute_input": "2022-08-17T14:01:51.130631Z",
     "iopub.status.busy": "2022-08-17T14:01:51.130306Z",
     "iopub.status.idle": "2022-08-17T14:01:51.148187Z",
     "shell.execute_reply": "2022-08-17T14:01:51.146855Z"
    },
    "papermill": {
     "duration": 0.027801,
     "end_time": "2022-08-17T14:01:51.150723",
     "exception": false,
     "start_time": "2022-08-17T14:01:51.122922",
     "status": "completed"
    },
    "tags": []
   },
   "outputs": [
    {
     "data": {
      "text/html": [
       "<div>\n",
       "<style scoped>\n",
       "    .dataframe tbody tr th:only-of-type {\n",
       "        vertical-align: middle;\n",
       "    }\n",
       "\n",
       "    .dataframe tbody tr th {\n",
       "        vertical-align: top;\n",
       "    }\n",
       "\n",
       "    .dataframe thead th {\n",
       "        text-align: right;\n",
       "    }\n",
       "</style>\n",
       "<table border=\"1\" class=\"dataframe\">\n",
       "  <thead>\n",
       "    <tr style=\"text-align: right;\">\n",
       "      <th></th>\n",
       "      <th>Width</th>\n",
       "      <th>Height</th>\n",
       "      <th>Roi.X1</th>\n",
       "      <th>Roi.Y1</th>\n",
       "      <th>Roi.X2</th>\n",
       "      <th>Roi.Y2</th>\n",
       "      <th>ClassId</th>\n",
       "      <th>Path</th>\n",
       "    </tr>\n",
       "  </thead>\n",
       "  <tbody>\n",
       "    <tr>\n",
       "      <th>0</th>\n",
       "      <td>53</td>\n",
       "      <td>54</td>\n",
       "      <td>6</td>\n",
       "      <td>5</td>\n",
       "      <td>48</td>\n",
       "      <td>49</td>\n",
       "      <td>16</td>\n",
       "      <td>00000.png</td>\n",
       "    </tr>\n",
       "    <tr>\n",
       "      <th>1</th>\n",
       "      <td>42</td>\n",
       "      <td>45</td>\n",
       "      <td>5</td>\n",
       "      <td>5</td>\n",
       "      <td>36</td>\n",
       "      <td>40</td>\n",
       "      <td>1</td>\n",
       "      <td>00001.png</td>\n",
       "    </tr>\n",
       "    <tr>\n",
       "      <th>2</th>\n",
       "      <td>48</td>\n",
       "      <td>52</td>\n",
       "      <td>6</td>\n",
       "      <td>6</td>\n",
       "      <td>43</td>\n",
       "      <td>47</td>\n",
       "      <td>38</td>\n",
       "      <td>00002.png</td>\n",
       "    </tr>\n",
       "    <tr>\n",
       "      <th>3</th>\n",
       "      <td>27</td>\n",
       "      <td>29</td>\n",
       "      <td>5</td>\n",
       "      <td>5</td>\n",
       "      <td>22</td>\n",
       "      <td>24</td>\n",
       "      <td>33</td>\n",
       "      <td>00003.png</td>\n",
       "    </tr>\n",
       "    <tr>\n",
       "      <th>4</th>\n",
       "      <td>60</td>\n",
       "      <td>57</td>\n",
       "      <td>5</td>\n",
       "      <td>5</td>\n",
       "      <td>55</td>\n",
       "      <td>52</td>\n",
       "      <td>11</td>\n",
       "      <td>00004.png</td>\n",
       "    </tr>\n",
       "    <tr>\n",
       "      <th>...</th>\n",
       "      <td>...</td>\n",
       "      <td>...</td>\n",
       "      <td>...</td>\n",
       "      <td>...</td>\n",
       "      <td>...</td>\n",
       "      <td>...</td>\n",
       "      <td>...</td>\n",
       "      <td>...</td>\n",
       "    </tr>\n",
       "    <tr>\n",
       "      <th>12625</th>\n",
       "      <td>42</td>\n",
       "      <td>41</td>\n",
       "      <td>5</td>\n",
       "      <td>6</td>\n",
       "      <td>37</td>\n",
       "      <td>36</td>\n",
       "      <td>12</td>\n",
       "      <td>12625.png</td>\n",
       "    </tr>\n",
       "    <tr>\n",
       "      <th>12626</th>\n",
       "      <td>50</td>\n",
       "      <td>51</td>\n",
       "      <td>6</td>\n",
       "      <td>5</td>\n",
       "      <td>45</td>\n",
       "      <td>46</td>\n",
       "      <td>33</td>\n",
       "      <td>12626.png</td>\n",
       "    </tr>\n",
       "    <tr>\n",
       "      <th>12627</th>\n",
       "      <td>29</td>\n",
       "      <td>29</td>\n",
       "      <td>6</td>\n",
       "      <td>6</td>\n",
       "      <td>24</td>\n",
       "      <td>24</td>\n",
       "      <td>6</td>\n",
       "      <td>12627.png</td>\n",
       "    </tr>\n",
       "    <tr>\n",
       "      <th>12628</th>\n",
       "      <td>48</td>\n",
       "      <td>49</td>\n",
       "      <td>5</td>\n",
       "      <td>6</td>\n",
       "      <td>43</td>\n",
       "      <td>44</td>\n",
       "      <td>7</td>\n",
       "      <td>12628.png</td>\n",
       "    </tr>\n",
       "    <tr>\n",
       "      <th>12629</th>\n",
       "      <td>32</td>\n",
       "      <td>31</td>\n",
       "      <td>6</td>\n",
       "      <td>5</td>\n",
       "      <td>27</td>\n",
       "      <td>26</td>\n",
       "      <td>10</td>\n",
       "      <td>12629.png</td>\n",
       "    </tr>\n",
       "  </tbody>\n",
       "</table>\n",
       "<p>12630 rows × 8 columns</p>\n",
       "</div>"
      ],
      "text/plain": [
       "       Width  Height  Roi.X1  Roi.Y1  Roi.X2  Roi.Y2 ClassId       Path\n",
       "0         53      54       6       5      48      49      16  00000.png\n",
       "1         42      45       5       5      36      40       1  00001.png\n",
       "2         48      52       6       6      43      47      38  00002.png\n",
       "3         27      29       5       5      22      24      33  00003.png\n",
       "4         60      57       5       5      55      52      11  00004.png\n",
       "...      ...     ...     ...     ...     ...     ...     ...        ...\n",
       "12625     42      41       5       6      37      36      12  12625.png\n",
       "12626     50      51       6       5      45      46      33  12626.png\n",
       "12627     29      29       6       6      24      24       6  12627.png\n",
       "12628     48      49       5       6      43      44       7  12628.png\n",
       "12629     32      31       6       5      27      26      10  12629.png\n",
       "\n",
       "[12630 rows x 8 columns]"
      ]
     },
     "execution_count": 16,
     "metadata": {},
     "output_type": "execute_result"
    }
   ],
   "source": [
    "df_test"
   ]
  },
  {
   "cell_type": "code",
   "execution_count": 17,
   "id": "7dd883d5",
   "metadata": {
    "execution": {
     "iopub.execute_input": "2022-08-17T14:01:51.170723Z",
     "iopub.status.busy": "2022-08-17T14:01:51.169351Z",
     "iopub.status.idle": "2022-08-17T14:02:05.364936Z",
     "shell.execute_reply": "2022-08-17T14:02:05.363363Z"
    },
    "papermill": {
     "duration": 14.210073,
     "end_time": "2022-08-17T14:02:05.367515",
     "exception": false,
     "start_time": "2022-08-17T14:01:51.157442",
     "status": "completed"
    },
    "tags": []
   },
   "outputs": [
    {
     "name": "stdout",
     "output_type": "stream",
     "text": [
      "Found 10104 validated image filenames belonging to 43 classes.\n"
     ]
    }
   ],
   "source": [
    "testDatagen = datagen.flow_from_dataframe(df_test, directory='../input/gtsrb-german-traffic-sign/Test', x_col='Path', y_col='ClassId',\n",
    "                                           target_size=(width,height), class_mode = 'categorical', batch_size = 16, \n",
    "                                           subset='training')"
   ]
  },
  {
   "cell_type": "code",
   "execution_count": 18,
   "id": "8e023d8a",
   "metadata": {
    "execution": {
     "iopub.execute_input": "2022-08-17T14:02:05.383841Z",
     "iopub.status.busy": "2022-08-17T14:02:05.382773Z",
     "iopub.status.idle": "2022-08-17T14:02:05.459470Z",
     "shell.execute_reply": "2022-08-17T14:02:05.457946Z"
    },
    "papermill": {
     "duration": 0.087444,
     "end_time": "2022-08-17T14:02:05.462382",
     "exception": false,
     "start_time": "2022-08-17T14:02:05.374938",
     "status": "completed"
    },
    "tags": []
   },
   "outputs": [
    {
     "data": {
      "text/plain": [
       "((16, 50, 50, 3), (16, 43))"
      ]
     },
     "execution_count": 18,
     "metadata": {},
     "output_type": "execute_result"
    }
   ],
   "source": [
    "x, y = testDatagen.next()\n",
    "x.shape, y.shape"
   ]
  },
  {
   "cell_type": "code",
   "execution_count": 19,
   "id": "7e42527f",
   "metadata": {
    "execution": {
     "iopub.execute_input": "2022-08-17T14:02:05.479526Z",
     "iopub.status.busy": "2022-08-17T14:02:05.478281Z",
     "iopub.status.idle": "2022-08-17T14:02:10.334759Z",
     "shell.execute_reply": "2022-08-17T14:02:10.333107Z"
    },
    "papermill": {
     "duration": 4.867804,
     "end_time": "2022-08-17T14:02:10.337407",
     "exception": false,
     "start_time": "2022-08-17T14:02:05.469603",
     "status": "completed"
    },
    "tags": []
   },
   "outputs": [
    {
     "name": "stderr",
     "output_type": "stream",
     "text": [
      "2022-08-17 14:02:05.626188: I tensorflow/stream_executor/cuda/cuda_gpu_executor.cc:937] successful NUMA node read from SysFS had negative value (-1), but there must be at least one NUMA node, so returning NUMA node zero\n",
      "2022-08-17 14:02:05.877752: I tensorflow/stream_executor/cuda/cuda_gpu_executor.cc:937] successful NUMA node read from SysFS had negative value (-1), but there must be at least one NUMA node, so returning NUMA node zero\n",
      "2022-08-17 14:02:05.881954: I tensorflow/stream_executor/cuda/cuda_gpu_executor.cc:937] successful NUMA node read from SysFS had negative value (-1), but there must be at least one NUMA node, so returning NUMA node zero\n",
      "2022-08-17 14:02:05.887790: I tensorflow/core/platform/cpu_feature_guard.cc:142] This TensorFlow binary is optimized with oneAPI Deep Neural Network Library (oneDNN) to use the following CPU instructions in performance-critical operations:  AVX2 FMA\n",
      "To enable them in other operations, rebuild TensorFlow with the appropriate compiler flags.\n",
      "2022-08-17 14:02:05.888290: I tensorflow/stream_executor/cuda/cuda_gpu_executor.cc:937] successful NUMA node read from SysFS had negative value (-1), but there must be at least one NUMA node, so returning NUMA node zero\n",
      "2022-08-17 14:02:05.892571: I tensorflow/stream_executor/cuda/cuda_gpu_executor.cc:937] successful NUMA node read from SysFS had negative value (-1), but there must be at least one NUMA node, so returning NUMA node zero\n",
      "2022-08-17 14:02:05.896687: I tensorflow/stream_executor/cuda/cuda_gpu_executor.cc:937] successful NUMA node read from SysFS had negative value (-1), but there must be at least one NUMA node, so returning NUMA node zero\n",
      "2022-08-17 14:02:09.440516: I tensorflow/stream_executor/cuda/cuda_gpu_executor.cc:937] successful NUMA node read from SysFS had negative value (-1), but there must be at least one NUMA node, so returning NUMA node zero\n",
      "2022-08-17 14:02:09.445049: I tensorflow/stream_executor/cuda/cuda_gpu_executor.cc:937] successful NUMA node read from SysFS had negative value (-1), but there must be at least one NUMA node, so returning NUMA node zero\n",
      "2022-08-17 14:02:09.449334: I tensorflow/stream_executor/cuda/cuda_gpu_executor.cc:937] successful NUMA node read from SysFS had negative value (-1), but there must be at least one NUMA node, so returning NUMA node zero\n",
      "2022-08-17 14:02:09.453419: I tensorflow/core/common_runtime/gpu/gpu_device.cc:1510] Created device /job:localhost/replica:0/task:0/device:GPU:0 with 15403 MB memory:  -> device: 0, name: Tesla P100-PCIE-16GB, pci bus id: 0000:00:04.0, compute capability: 6.0\n"
     ]
    },
    {
     "name": "stdout",
     "output_type": "stream",
     "text": [
      "Model: \"sequential\"\n",
      "_________________________________________________________________\n",
      "Layer (type)                 Output Shape              Param #   \n",
      "=================================================================\n",
      "conv2d (Conv2D)              (None, 50, 50, 32)        896       \n",
      "_________________________________________________________________\n",
      "max_pooling2d (MaxPooling2D) (None, 25, 25, 32)        0         \n",
      "_________________________________________________________________\n",
      "batch_normalization (BatchNo (None, 25, 25, 32)        128       \n",
      "_________________________________________________________________\n",
      "dropout (Dropout)            (None, 25, 25, 32)        0         \n",
      "_________________________________________________________________\n",
      "conv2d_1 (Conv2D)            (None, 25, 25, 128)       36992     \n",
      "_________________________________________________________________\n",
      "max_pooling2d_1 (MaxPooling2 (None, 12, 12, 128)       0         \n",
      "_________________________________________________________________\n",
      "batch_normalization_1 (Batch (None, 12, 12, 128)       512       \n",
      "_________________________________________________________________\n",
      "dropout_1 (Dropout)          (None, 12, 12, 128)       0         \n",
      "_________________________________________________________________\n",
      "conv2d_2 (Conv2D)            (None, 12, 12, 512)       590336    \n",
      "_________________________________________________________________\n",
      "dropout_2 (Dropout)          (None, 12, 12, 512)       0         \n",
      "_________________________________________________________________\n",
      "conv2d_3 (Conv2D)            (None, 12, 12, 512)       2359808   \n",
      "_________________________________________________________________\n",
      "max_pooling2d_2 (MaxPooling2 (None, 6, 6, 512)         0         \n",
      "_________________________________________________________________\n",
      "batch_normalization_2 (Batch (None, 6, 6, 512)         2048      \n",
      "_________________________________________________________________\n",
      "flatten (Flatten)            (None, 18432)             0         \n",
      "_________________________________________________________________\n",
      "dense (Dense)                (None, 4000)              73732000  \n",
      "_________________________________________________________________\n",
      "dense_1 (Dense)              (None, 4000)              16004000  \n",
      "_________________________________________________________________\n",
      "dense_2 (Dense)              (None, 1000)              4001000   \n",
      "_________________________________________________________________\n",
      "dense_3 (Dense)              (None, 43)                43043     \n",
      "=================================================================\n",
      "Total params: 96,770,763\n",
      "Trainable params: 96,769,419\n",
      "Non-trainable params: 1,344\n",
      "_________________________________________________________________\n"
     ]
    }
   ],
   "source": [
    "model = Sequential() #Sequential Model\n",
    "\n",
    "#ConvLayer(64 filters) + MaxPooling + BatchNormalization + Dropout\n",
    "model.add(Conv2D(filters=32,kernel_size=3,activation='relu',padding='same',input_shape=(50,50,3)))\n",
    "model.add(MaxPool2D(strides=2))\n",
    "model.add(BatchNormalization())\n",
    "model.add(Dropout(0.3))\n",
    "\n",
    "#ConvLayer(128 filters) + MaxPooling + BatchNormalization + Dropout\n",
    "model.add(Conv2D(filters=128,kernel_size=3,activation='relu',padding='same'))\n",
    "model.add(MaxPool2D(strides=2))\n",
    "model.add(BatchNormalization())\n",
    "model.add(Dropout(0.3))\n",
    "\n",
    "#ConvLayer(512 filters) + Dropout + ConvLayer(512 filters) + MaxPooling + BatchNormalization\n",
    "model.add(Conv2D(filters=512,kernel_size=3,activation='relu',padding='same'))\n",
    "model.add(Dropout(0.3))\n",
    "model.add(Conv2D(filters=512,kernel_size=3,activation='relu',padding='same'))\n",
    "model.add(MaxPool2D(strides=2))\n",
    "model.add(BatchNormalization())\n",
    "\n",
    "#Flatten\n",
    "model.add(Flatten())\n",
    "\n",
    "#2 Dense layers with 4000 hidden units\n",
    "model.add(Dense(4000,activation='relu'))\n",
    "model.add(Dense(4000,activation='relu'))\n",
    "\n",
    "#Dense layer with 1000 hidden units\n",
    "model.add(Dense(1000,activation='relu'))\n",
    "\n",
    "#Softmax layer for output\n",
    "model.add(Dense(43,activation='softmax'))\n",
    "\n",
    "model.summary()"
   ]
  },
  {
   "cell_type": "code",
   "execution_count": 20,
   "id": "5a01ff99",
   "metadata": {
    "execution": {
     "iopub.execute_input": "2022-08-17T14:02:10.354865Z",
     "iopub.status.busy": "2022-08-17T14:02:10.354500Z",
     "iopub.status.idle": "2022-08-17T14:02:10.369551Z",
     "shell.execute_reply": "2022-08-17T14:02:10.368353Z"
    },
    "papermill": {
     "duration": 0.026716,
     "end_time": "2022-08-17T14:02:10.372300",
     "exception": false,
     "start_time": "2022-08-17T14:02:10.345584",
     "status": "completed"
    },
    "tags": []
   },
   "outputs": [],
   "source": [
    "model.compile(optimizer='adam', loss='categorical_crossentropy', metrics=['accuracy'])"
   ]
  },
  {
   "cell_type": "code",
   "execution_count": 21,
   "id": "d4b6c1f0",
   "metadata": {
    "execution": {
     "iopub.execute_input": "2022-08-17T14:02:10.391390Z",
     "iopub.status.busy": "2022-08-17T14:02:10.391060Z",
     "iopub.status.idle": "2022-08-17T14:27:16.010606Z",
     "shell.execute_reply": "2022-08-17T14:27:16.009167Z"
    },
    "papermill": {
     "duration": 1505.632242,
     "end_time": "2022-08-17T14:27:16.013665",
     "exception": false,
     "start_time": "2022-08-17T14:02:10.381423",
     "status": "completed"
    },
    "tags": []
   },
   "outputs": [
    {
     "name": "stderr",
     "output_type": "stream",
     "text": [
      "2022-08-17 14:02:10.496703: I tensorflow/compiler/mlir/mlir_graph_optimization_pass.cc:185] None of the MLIR Optimization Passes are enabled (registered 2)\n"
     ]
    },
    {
     "name": "stdout",
     "output_type": "stream",
     "text": [
      "Epoch 1/20\n"
     ]
    },
    {
     "name": "stderr",
     "output_type": "stream",
     "text": [
      "2022-08-17 14:02:13.173356: I tensorflow/stream_executor/cuda/cuda_dnn.cc:369] Loaded cuDNN version 8005\n"
     ]
    },
    {
     "name": "stdout",
     "output_type": "stream",
     "text": [
      "1961/1961 [==============================] - 239s 117ms/step - loss: 0.9575 - accuracy: 0.7378 - val_loss: 5.3539 - val_accuracy: 0.6816\n",
      "Epoch 2/20\n",
      "1961/1961 [==============================] - 59s 30ms/step - loss: 0.2044 - accuracy: 0.9507 - val_loss: 6.7113 - val_accuracy: 0.7531\n",
      "Epoch 3/20\n",
      "1961/1961 [==============================] - 59s 30ms/step - loss: 0.1596 - accuracy: 0.9650 - val_loss: 8.7160 - val_accuracy: 0.7531\n",
      "Epoch 4/20\n",
      "1961/1961 [==============================] - 59s 30ms/step - loss: 0.1679 - accuracy: 0.9635 - val_loss: 15.3190 - val_accuracy: 0.7732\n",
      "Epoch 5/20\n",
      "1961/1961 [==============================] - 61s 31ms/step - loss: 0.1399 - accuracy: 0.9746 - val_loss: 14.1042 - val_accuracy: 0.7814\n",
      "Epoch 6/20\n",
      "1961/1961 [==============================] - 59s 30ms/step - loss: 0.0884 - accuracy: 0.9831 - val_loss: 16.4322 - val_accuracy: 0.7835\n",
      "Epoch 7/20\n",
      "1961/1961 [==============================] - 59s 30ms/step - loss: 0.1029 - accuracy: 0.9832 - val_loss: 18.3705 - val_accuracy: 0.7903\n",
      "Epoch 8/20\n",
      "1961/1961 [==============================] - 59s 30ms/step - loss: 0.0928 - accuracy: 0.9838 - val_loss: 16.8111 - val_accuracy: 0.7905\n",
      "Epoch 9/20\n",
      "1961/1961 [==============================] - 58s 30ms/step - loss: 0.0959 - accuracy: 0.9838 - val_loss: 18.2514 - val_accuracy: 0.7972\n",
      "Epoch 10/20\n",
      "1961/1961 [==============================] - 60s 30ms/step - loss: 0.0626 - accuracy: 0.9889 - val_loss: 30.0545 - val_accuracy: 0.7904\n",
      "Epoch 11/20\n",
      "1961/1961 [==============================] - 59s 30ms/step - loss: 0.1018 - accuracy: 0.9854 - val_loss: 24.4348 - val_accuracy: 0.7874\n",
      "Epoch 12/20\n",
      "1961/1961 [==============================] - 60s 31ms/step - loss: 0.0454 - accuracy: 0.9915 - val_loss: 30.2664 - val_accuracy: 0.7941\n",
      "Epoch 13/20\n",
      "1961/1961 [==============================] - 58s 30ms/step - loss: 0.0659 - accuracy: 0.9876 - val_loss: 32.1650 - val_accuracy: 0.8006\n",
      "Epoch 14/20\n",
      "1961/1961 [==============================] - 57s 29ms/step - loss: 0.0727 - accuracy: 0.9877 - val_loss: 11.9554 - val_accuracy: 0.7678\n",
      "Epoch 15/20\n",
      "1961/1961 [==============================] - 61s 31ms/step - loss: 0.0497 - accuracy: 0.9924 - val_loss: 16.6157 - val_accuracy: 0.7990\n",
      "Epoch 16/20\n",
      "1961/1961 [==============================] - 61s 31ms/step - loss: 0.0770 - accuracy: 0.9902 - val_loss: 20.1133 - val_accuracy: 0.7779\n",
      "Epoch 17/20\n",
      "1961/1961 [==============================] - 61s 31ms/step - loss: 0.0734 - accuracy: 0.9905 - val_loss: 19.5645 - val_accuracy: 0.7795\n",
      "Epoch 18/20\n",
      "1961/1961 [==============================] - 60s 31ms/step - loss: 0.0469 - accuracy: 0.9926 - val_loss: 27.6205 - val_accuracy: 0.7975\n",
      "Epoch 19/20\n",
      "1961/1961 [==============================] - 61s 31ms/step - loss: 0.0900 - accuracy: 0.9872 - val_loss: 38.1476 - val_accuracy: 0.7585\n",
      "Epoch 20/20\n",
      "1961/1961 [==============================] - 58s 30ms/step - loss: 0.0736 - accuracy: 0.9889 - val_loss: 35.4763 - val_accuracy: 0.7937\n"
     ]
    }
   ],
   "source": [
    "history= model.fit(trainDatagen, epochs=20, batch_size=64, validation_data = testDatagen, verbose=1)"
   ]
  },
  {
   "cell_type": "code",
   "execution_count": 22,
   "id": "3f5a8680",
   "metadata": {
    "execution": {
     "iopub.execute_input": "2022-08-17T14:27:18.019854Z",
     "iopub.status.busy": "2022-08-17T14:27:18.018398Z",
     "iopub.status.idle": "2022-08-17T14:27:18.042129Z",
     "shell.execute_reply": "2022-08-17T14:27:18.040730Z"
    },
    "papermill": {
     "duration": 1.063735,
     "end_time": "2022-08-17T14:27:18.045161",
     "exception": false,
     "start_time": "2022-08-17T14:27:16.981426",
     "status": "completed"
    },
    "tags": []
   },
   "outputs": [
    {
     "data": {
      "text/html": [
       "<div>\n",
       "<style scoped>\n",
       "    .dataframe tbody tr th:only-of-type {\n",
       "        vertical-align: middle;\n",
       "    }\n",
       "\n",
       "    .dataframe tbody tr th {\n",
       "        vertical-align: top;\n",
       "    }\n",
       "\n",
       "    .dataframe thead th {\n",
       "        text-align: right;\n",
       "    }\n",
       "</style>\n",
       "<table border=\"1\" class=\"dataframe\">\n",
       "  <thead>\n",
       "    <tr style=\"text-align: right;\">\n",
       "      <th></th>\n",
       "      <th>loss</th>\n",
       "      <th>accuracy</th>\n",
       "      <th>val_loss</th>\n",
       "      <th>val_accuracy</th>\n",
       "    </tr>\n",
       "  </thead>\n",
       "  <tbody>\n",
       "    <tr>\n",
       "      <th>0</th>\n",
       "      <td>0.957479</td>\n",
       "      <td>0.737790</td>\n",
       "      <td>5.353927</td>\n",
       "      <td>0.681611</td>\n",
       "    </tr>\n",
       "    <tr>\n",
       "      <th>1</th>\n",
       "      <td>0.204400</td>\n",
       "      <td>0.950682</td>\n",
       "      <td>6.711258</td>\n",
       "      <td>0.753068</td>\n",
       "    </tr>\n",
       "    <tr>\n",
       "      <th>2</th>\n",
       "      <td>0.159551</td>\n",
       "      <td>0.964996</td>\n",
       "      <td>8.715965</td>\n",
       "      <td>0.753068</td>\n",
       "    </tr>\n",
       "    <tr>\n",
       "      <th>3</th>\n",
       "      <td>0.167918</td>\n",
       "      <td>0.963466</td>\n",
       "      <td>15.318971</td>\n",
       "      <td>0.773159</td>\n",
       "    </tr>\n",
       "    <tr>\n",
       "      <th>4</th>\n",
       "      <td>0.139948</td>\n",
       "      <td>0.974592</td>\n",
       "      <td>14.104213</td>\n",
       "      <td>0.781374</td>\n",
       "    </tr>\n",
       "    <tr>\n",
       "      <th>5</th>\n",
       "      <td>0.088410</td>\n",
       "      <td>0.983104</td>\n",
       "      <td>16.432178</td>\n",
       "      <td>0.783452</td>\n",
       "    </tr>\n",
       "    <tr>\n",
       "      <th>6</th>\n",
       "      <td>0.102932</td>\n",
       "      <td>0.983168</td>\n",
       "      <td>18.370525</td>\n",
       "      <td>0.790281</td>\n",
       "    </tr>\n",
       "    <tr>\n",
       "      <th>7</th>\n",
       "      <td>0.092816</td>\n",
       "      <td>0.983837</td>\n",
       "      <td>16.811058</td>\n",
       "      <td>0.790479</td>\n",
       "    </tr>\n",
       "    <tr>\n",
       "      <th>8</th>\n",
       "      <td>0.095879</td>\n",
       "      <td>0.983805</td>\n",
       "      <td>18.251387</td>\n",
       "      <td>0.797209</td>\n",
       "    </tr>\n",
       "    <tr>\n",
       "      <th>9</th>\n",
       "      <td>0.062634</td>\n",
       "      <td>0.988874</td>\n",
       "      <td>30.054514</td>\n",
       "      <td>0.790380</td>\n",
       "    </tr>\n",
       "    <tr>\n",
       "      <th>10</th>\n",
       "      <td>0.101750</td>\n",
       "      <td>0.985367</td>\n",
       "      <td>24.434816</td>\n",
       "      <td>0.787411</td>\n",
       "    </tr>\n",
       "    <tr>\n",
       "      <th>11</th>\n",
       "      <td>0.045363</td>\n",
       "      <td>0.991488</td>\n",
       "      <td>30.266417</td>\n",
       "      <td>0.794141</td>\n",
       "    </tr>\n",
       "    <tr>\n",
       "      <th>12</th>\n",
       "      <td>0.065864</td>\n",
       "      <td>0.987599</td>\n",
       "      <td>32.165001</td>\n",
       "      <td>0.800574</td>\n",
       "    </tr>\n",
       "    <tr>\n",
       "      <th>13</th>\n",
       "      <td>0.072662</td>\n",
       "      <td>0.987694</td>\n",
       "      <td>11.955400</td>\n",
       "      <td>0.767815</td>\n",
       "    </tr>\n",
       "    <tr>\n",
       "      <th>14</th>\n",
       "      <td>0.049702</td>\n",
       "      <td>0.992445</td>\n",
       "      <td>16.615665</td>\n",
       "      <td>0.798990</td>\n",
       "    </tr>\n",
       "    <tr>\n",
       "      <th>15</th>\n",
       "      <td>0.077030</td>\n",
       "      <td>0.990245</td>\n",
       "      <td>20.113285</td>\n",
       "      <td>0.777910</td>\n",
       "    </tr>\n",
       "    <tr>\n",
       "      <th>16</th>\n",
       "      <td>0.073388</td>\n",
       "      <td>0.990500</td>\n",
       "      <td>19.564529</td>\n",
       "      <td>0.779493</td>\n",
       "    </tr>\n",
       "    <tr>\n",
       "      <th>17</th>\n",
       "      <td>0.046885</td>\n",
       "      <td>0.992636</td>\n",
       "      <td>27.620468</td>\n",
       "      <td>0.797506</td>\n",
       "    </tr>\n",
       "    <tr>\n",
       "      <th>18</th>\n",
       "      <td>0.089973</td>\n",
       "      <td>0.987184</td>\n",
       "      <td>38.147629</td>\n",
       "      <td>0.758511</td>\n",
       "    </tr>\n",
       "    <tr>\n",
       "      <th>19</th>\n",
       "      <td>0.073590</td>\n",
       "      <td>0.988938</td>\n",
       "      <td>35.476292</td>\n",
       "      <td>0.793745</td>\n",
       "    </tr>\n",
       "  </tbody>\n",
       "</table>\n",
       "</div>"
      ],
      "text/plain": [
       "        loss  accuracy   val_loss  val_accuracy\n",
       "0   0.957479  0.737790   5.353927      0.681611\n",
       "1   0.204400  0.950682   6.711258      0.753068\n",
       "2   0.159551  0.964996   8.715965      0.753068\n",
       "3   0.167918  0.963466  15.318971      0.773159\n",
       "4   0.139948  0.974592  14.104213      0.781374\n",
       "5   0.088410  0.983104  16.432178      0.783452\n",
       "6   0.102932  0.983168  18.370525      0.790281\n",
       "7   0.092816  0.983837  16.811058      0.790479\n",
       "8   0.095879  0.983805  18.251387      0.797209\n",
       "9   0.062634  0.988874  30.054514      0.790380\n",
       "10  0.101750  0.985367  24.434816      0.787411\n",
       "11  0.045363  0.991488  30.266417      0.794141\n",
       "12  0.065864  0.987599  32.165001      0.800574\n",
       "13  0.072662  0.987694  11.955400      0.767815\n",
       "14  0.049702  0.992445  16.615665      0.798990\n",
       "15  0.077030  0.990245  20.113285      0.777910\n",
       "16  0.073388  0.990500  19.564529      0.779493\n",
       "17  0.046885  0.992636  27.620468      0.797506\n",
       "18  0.089973  0.987184  38.147629      0.758511\n",
       "19  0.073590  0.988938  35.476292      0.793745"
      ]
     },
     "execution_count": 22,
     "metadata": {},
     "output_type": "execute_result"
    }
   ],
   "source": [
    "summary = pd.DataFrame(model.history.history)\n",
    "summary"
   ]
  },
  {
   "cell_type": "code",
   "execution_count": 23,
   "id": "cb18cb83",
   "metadata": {
    "execution": {
     "iopub.execute_input": "2022-08-17T14:27:20.051983Z",
     "iopub.status.busy": "2022-08-17T14:27:20.050135Z",
     "iopub.status.idle": "2022-08-17T14:27:20.755440Z",
     "shell.execute_reply": "2022-08-17T14:27:20.754091Z"
    },
    "papermill": {
     "duration": 1.701573,
     "end_time": "2022-08-17T14:27:20.758620",
     "exception": false,
     "start_time": "2022-08-17T14:27:19.057047",
     "status": "completed"
    },
    "tags": []
   },
   "outputs": [
    {
     "data": {
      "image/png": "[encoded data removed]",
      "text/plain": [
       "<Figure size 432x288 with 1 Axes>"
      ]
     },
     "metadata": {
      "needs_background": "light"
     },
     "output_type": "display_data"
    },
    {
     "data": {
      "image/png": "[encoded data removed]",
      "text/plain": [
       "<Figure size 432x288 with 1 Axes>"
      ]
     },
     "metadata": {
      "needs_background": "light"
     },
     "output_type": "display_data"
    }
   ],
   "source": [
    "import matplotlib.pyplot as plt\n",
    "%matplotlib inline \n",
    "plt.plot(history.history[\"accuracy\"])\n",
    "plt.plot(history.history[\"val_accuracy\"])\n",
    "plt.title(\"Modelaccuracy\")\n",
    "plt.ylabel(\"Accuracy\")\n",
    "plt.xlabel(\"Epoch\")\n",
    "plt.legend([\"Train\",\"Test\"],loc=\"upper left\")\n",
    "plt.show()\n",
    "\n",
    "plt.plot(history.history[\"loss\"])\n",
    "plt.plot(history.history[\"val_loss\"])\n",
    "plt.title(\"Model loss\")\n",
    "plt.ylabel(\"loss\")\n",
    "plt.xlabel(\"Epoch\")\n",
    "plt.legend([\"Train\",\"Test\"],loc=\"upper left\")\n",
    "plt.show()"
   ]
  }
 ],
 "metadata": {
  "kernelspec": {
   "display_name": "Python 3 (ipykernel)",
   "language": "python",
   "name": "python3"
  },
  "language_info": {
   "codemirror_mode": {
    "name": "ipython",
    "version": 3
   },
   "file_extension": ".py",
   "mimetype": "text/x-python",
   "name": "python",
   "nbconvert_exporter": "python",
   "pygments_lexer": "ipython3",
   "version": "3.9.12"
  },
  "papermill": {
   "default_parameters": {},
   "duration": 1598.249921,
   "end_time": "2022-08-17T14:27:25.545404",
   "environment_variables": {},
   "exception": null,
   "input_path": "__notebook__.ipynb",
   "output_path": "__notebook__.ipynb",
   "parameters": {},
   "start_time": "2022-08-17T14:00:47.295483",
   "version": "2.3.4"
  },
  "toc": {
   "base_numbering": 1,
   "nav_menu": {},
   "number_sections": true,
   "sideBar": true,
   "skip_h1_title": false,
   "title_cell": "Table of Contents",
   "title_sidebar": "Contents",
   "toc_cell": false,
   "toc_position": {},
   "toc_section_display": true,
   "toc_window_display": false
  },
  "varInspector": {
   "cols": {
    "lenName": 16,
    "lenType": 16,
    "lenVar": 40
   },
   "kernels_config": {
    "python": {
     "delete_cmd_postfix": "",
     "delete_cmd_prefix": "del ",
     "library": "var_list.py",
     "varRefreshCmd": "print(var_dic_list())"
    },
    "r": {
     "delete_cmd_postfix": ") ",
     "delete_cmd_prefix": "rm(",
     "library": "var_list.r",
     "varRefreshCmd": "cat(var_dic_list()) "
    }
   },
   "types_to_exclude": [
    "module",
    "function",
    "builtin_function_or_method",
    "instance",
    "_Feature"
   ],
   "window_display": false
  }
 },
 "nbformat": 4,
 "nbformat_minor": 5
}
